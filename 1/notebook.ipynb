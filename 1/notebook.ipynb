{
 "metadata": {
  "language_info": {
   "codemirror_mode": {
    "name": "ipython",
    "version": 3
   },
   "file_extension": ".py",
   "mimetype": "text/x-python",
   "name": "python",
   "nbconvert_exporter": "python",
   "pygments_lexer": "ipython3",
   "version": "3.9.0-final"
  },
  "orig_nbformat": 2,
  "kernelspec": {
   "name": "python3",
   "display_name": "Python 3.9.0 64-bit",
   "metadata": {
    "interpreter": {
     "hash": "4cd7ab41f5fca4b9b44701077e38c5ffd31fe66a6cab21e0214b68d958d0e462"
    }
   }
  }
 },
 "nbformat": 4,
 "nbformat_minor": 2,
 "cells": [
  {
   "source": [
    "with open(\"input.txt\") as file:\n",
    "    raw = file.read().split(\"\\n\")\n",
    "data = [int(item) for item in raw]"
   ],
   "cell_type": "code",
   "metadata": {},
   "execution_count": 1,
   "outputs": []
  },
  {
   "cell_type": "code",
   "execution_count": 14,
   "metadata": {},
   "outputs": [
    {
     "output_type": "stream",
     "name": "stdout",
     "text": [
      "1958 * 62 = 121396\n"
     ]
    }
   ],
   "source": [
    "indices = range(len(data))\n",
    "solved = False\n",
    "for i in indices:\n",
    "    a = data[i]\n",
    "    for j in filter(lambda x: x is not i, indices):\n",
    "        b = data[j]\n",
    "        if a + b == 2020:\n",
    "            print(f\"{a} * {b} = {a * b}\")\n",
    "            solved = True\n",
    "        if solved:\n",
    "            break;\n",
    "    if solved:\n",
    "        break;"
   ]
  },
  {
   "cell_type": "code",
   "execution_count": 13,
   "metadata": {},
   "outputs": [
    {
     "output_type": "stream",
     "name": "stdout",
     "text": [
      "426 * 1477 * 117\n=73616634\n"
     ]
    }
   ],
   "source": [
    "solved = False\n",
    "for i in indices:\n",
    "    a = data[i]\n",
    "    for j in filter(lambda x: x is not a, indices):\n",
    "        b = data[j]\n",
    "        for k in filter(lambda x: x not in [i,j], indices):\n",
    "            c = data[k]\n",
    "            if a + b + c == 2020:\n",
    "                print(f\"{a} * {b} * {c} = {a * b * c}\")\n",
    "                solved = True\n",
    "            if solved:\n",
    "                break;\n",
    "        if solved:\n",
    "            break;\n",
    "    if solved:\n",
    "        break;"
   ]
  },
  {
   "cell_type": "code",
   "execution_count": null,
   "metadata": {},
   "outputs": [],
   "source": []
  }
 ]
}